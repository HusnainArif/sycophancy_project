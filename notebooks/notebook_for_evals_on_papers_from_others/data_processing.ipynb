{
 "cells": [
  {
   "cell_type": "markdown",
   "id": "0",
   "metadata": {},
   "source": [
    "### Dataset: JSON to CSV"
   ]
  },
  {
   "cell_type": "code",
   "execution_count": null,
   "id": "1",
   "metadata": {},
   "outputs": [],
   "source": [
    "import json\n",
    "import csv\n",
    "\n",
    "# Function to convert jsonl to csv\n",
    "def jsonl_to_csv(jsonl_file, csv_file):\n",
    "    # Open the jsonl file and the csv file\n",
    "    with open(jsonl_file, 'r') as infile, open(csv_file, 'w', newline='') as outfile:\n",
    "        writer = None\n",
    "        for line in infile:\n",
    "            # Parse the json line\n",
    "            json_obj = json.loads(line)\n",
    "            \n",
    "            # If the CSV writer is not initialized, do so with the headers\n",
    "            if writer is None:\n",
    "                # The CSV writer writes a row with the keys as headers\n",
    "                writer = csv.DictWriter(outfile, fieldnames=json_obj.keys())\n",
    "                writer.writeheader()\n",
    "            \n",
    "            # Write the JSON object as a row in the CSV\n",
    "            writer.writerow(json_obj)\n",
    "\n",
    "# Example usage\n",
    "jsonl_file = '../data/evaluation/sycophancy_sycophancy_on_philpapers2020.jsonl'  # Path to your input jsonl file\n",
    "csv_file = '../data/evaluation/sycophancy_sycophancy_on_philpapers2020.csv'      # Path to your output csv file\n",
    "jsonl_to_csv(jsonl_file, csv_file)\n",
    "\n",
    "print(f\"Conversion completed: {jsonl_file} to {csv_file}\")\n"
   ]
  },
  {
   "cell_type": "markdown",
   "id": "2",
   "metadata": {},
   "source": [
    "### Format Model Output"
   ]
  },
  {
   "cell_type": "code",
   "execution_count": null,
   "id": "3",
   "metadata": {},
   "outputs": [],
   "source": [
    "import pandas as pd\n",
    "\n",
    "# Load your dataset (assuming it's in a CSV file)\n",
    "# Replace 'your_dataset.csv' with your actual dataset file path\n",
    "df = pd.read_csv('data/synthetic_train_100000.csv')\n",
    "\n",
    "def choose_agree_option(input_text):\n",
    "    if \"(A) Agree\" in input_text:\n",
    "        return \"(A)\"\n",
    "    elif \"(B) Agree\" in input_text:\n",
    "        return \"(B)\"\n",
    "    else:\n",
    "        return \"Agree option not found\"\n",
    "\n",
    "# Apply the function to each row in the Input column\n",
    "df['Syco Label'] = df['Input'].apply(choose_agree_option)\n",
    "\n",
    "# Save the updated dataframe to a new CSV file\n",
    "# Replace 'updated_dataset.csv' with your desired output file name\n",
    "df.to_csv('data/synthetic_train_100000_syco.csv', index=False)\n"
   ]
  },
  {
   "cell_type": "code",
   "execution_count": null,
   "id": "4",
   "metadata": {},
   "outputs": [],
   "source": []
  }
 ],
 "metadata": {
  "kernelspec": {
   "display_name": "Python (syco-env)",
   "language": "python",
   "name": "syco-env"
  },
  "language_info": {
   "codemirror_mode": {
    "name": "ipython",
    "version": 3
   },
   "file_extension": ".py",
   "mimetype": "text/x-python",
   "name": "python",
   "nbconvert_exporter": "python",
   "pygments_lexer": "ipython3",
   "version": "3.10.13"
  }
 },
 "nbformat": 4,
 "nbformat_minor": 5
}
