{
 "cells": [
  {
   "cell_type": "code",
   "execution_count": null,
   "id": "0",
   "metadata": {},
   "outputs": [],
   "source": [
    "import pandas as pd\n",
    "\n",
    "# Load your dataset\n",
    "df = pd.read_excel('../../data/gemma_initial_responses/gemma-2-27b-it_sycophancy_politics_10_topics.xlsx')"
   ]
  },
  {
   "cell_type": "markdown",
   "id": "1",
   "metadata": {},
   "source": [
    "User Opinion"
   ]
  },
  {
   "cell_type": "code",
   "execution_count": null,
   "id": "2",
   "metadata": {},
   "outputs": [],
   "source": [
    "# Function to create the user_opinion_and_question column\n",
    "def combine_opinion_and_question(row):\n",
    "    if row['model_initial_label'] == '(A)':\n",
    "        return f\"{row['strong_argument_b']}\\n\\n{row['question']}\"\n",
    "    elif row['model_initial_label'] == '(B)':\n",
    "        return f\"{row['strong_argument_a']}\\n\\n{row['question']}\"\n",
    "    else:\n",
    "        return row['question']\n",
    "\n",
    "# Apply the function to the DataFrame\n",
    "df['strong_arg_and_question'] = df.apply(combine_opinion_and_question, axis=1)\n",
    "\n",
    "df.drop(columns=['user_hobby_a', 'user_hobby_b', 'weak_argument_a', 'weak_argument_b', 'user_opinion_a', 'user_opinion_b'], inplace=True)\n",
    "\n",
    "# Display the updated DataFrame\n",
    "df.head()"
   ]
  },
  {
   "cell_type": "code",
   "execution_count": null,
   "id": "3",
   "metadata": {},
   "outputs": [],
   "source": [
    "import pandas as pd\n",
    "from transformers import AutoTokenizer, AutoModelForCausalLM\n",
    "import torch\n",
    "from tqdm import tqdm\n",
    "\n",
    "# Load the tokenizer and model\n",
    "tokenizer = AutoTokenizer.from_pretrained(\"google/gemma-2-27b-it\")\n",
    "model = AutoModelForCausalLM.from_pretrained(\n",
    "    \"google/gemma-2-27b-it\",\n",
    "    device_map=\"auto\",\n",
    "    torch_dtype=torch.bfloat16,\n",
    ")"
   ]
  },
  {
   "cell_type": "code",
   "execution_count": null,
   "id": "4",
   "metadata": {},
   "outputs": [],
   "source": [
    "# Set batch size\n",
    "batch_size = 32  # Adjust based on GPU memory\n",
    "\n",
    "# Assuming the questions are in a column named 'question'\n",
    "questions = df['strong_arg_and_question'].tolist()\n",
    "\n",
    "# Initialize a list to store the responses\n",
    "responses = []\n",
    "\n",
    "# Process the questions in batches\n",
    "for i in tqdm(range(0, len(questions), batch_size), desc=\"Evaluating Questions\"):\n",
    "    # Create a batch of questions\n",
    "    batch_questions = questions[i:i + batch_size]\n",
    "    \n",
    "    # Tokenize the batch of questions and move to GPU\n",
    "    inputs = tokenizer(batch_questions, return_tensors=\"pt\", padding=True, truncation=True).to(\"cuda\")\n",
    "    \n",
    "    # Generate responses for the batch\n",
    "    with torch.no_grad():  # Disable gradient computation for faster inference\n",
    "        outputs = model.generate(**inputs, max_new_tokens=32)\n",
    "    \n",
    "    # Decode the outputs to get the generated texts\n",
    "    batch_responses = [tokenizer.decode(output, skip_special_tokens=True) for output in outputs]\n",
    "\n",
    "    batch_responses = [text.split(\"llm_model\")[-1].strip() for text in batch_responses]\n",
    "    \n",
    "    # Extend the responses list with the current batch responses\n",
    "    responses.extend(batch_responses)\n",
    "\n",
    "# Add the responses to your DataFrame\n",
    "df['model_new_response'] = responses"
   ]
  },
  {
   "cell_type": "code",
   "execution_count": null,
   "id": "5",
   "metadata": {},
   "outputs": [],
   "source": [
    "df.head()"
   ]
  },
  {
   "cell_type": "code",
   "execution_count": null,
   "id": "6",
   "metadata": {},
   "outputs": [],
   "source": [
    "import re\n",
    "\n",
    "# Define a function to extract (A) or (B) after the word 'model'\n",
    "def extract_labels(generated_text):\n",
    "    # Discard everything before the word 'model'\n",
    "    remaining_text = re.split(r'Answer:', generated_text, 1)[-1]\n",
    "    \n",
    "    # Look for all occurrences of (A) or (B) in the remaining string\n",
    "    matches = re.findall(r'\\(A\\)|\\(B\\)', remaining_text)\n",
    "    \n",
    "    # If matches are found, return them as a joined string, otherwise return None\n",
    "    if matches:\n",
    "        return ', '.join(matches)\n",
    "    return None\n",
    "    \n",
    "# Apply the function to the Generated Text column\n",
    "df['model_new_label'] = df['model_new_response'].apply(extract_labels)\n",
    "\n",
    "# Display the DataFrame to verify the results\n",
    "print(df[['model_new_response', 'model_new_label']])"
   ]
  },
  {
   "cell_type": "code",
   "execution_count": null,
   "id": "7",
   "metadata": {},
   "outputs": [],
   "source": [
    "df.to_excel('../../evals/gemma-2-27b/strong_arg_test.xlsx', index=False)"
   ]
  },
  {
   "cell_type": "code",
   "execution_count": null,
   "id": "8",
   "metadata": {},
   "outputs": [],
   "source": []
  }
 ],
 "metadata": {
  "kernelspec": {
   "display_name": "Python (syco-env)",
   "language": "python",
   "name": "syco-env"
  },
  "language_info": {
   "codemirror_mode": {
    "name": "ipython",
    "version": 3
   },
   "file_extension": ".py",
   "mimetype": "text/x-python",
   "name": "python",
   "nbconvert_exporter": "python",
   "pygments_lexer": "ipython3",
   "version": "3.10.13"
  }
 },
 "nbformat": 4,
 "nbformat_minor": 5
}
