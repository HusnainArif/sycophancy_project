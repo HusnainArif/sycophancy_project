{
 "cells": [
  {
   "cell_type": "code",
   "execution_count": null,
   "id": "0",
   "metadata": {},
   "outputs": [],
   "source": [
    "from huggingface_hub import notebook_login\n",
    "notebook_login()"
   ]
  },
  {
   "cell_type": "code",
   "execution_count": null,
   "id": "1",
   "metadata": {},
   "outputs": [],
   "source": [
    "import pandas as pd\n",
    "from transformers import AutoTokenizer, AutoModelForCausalLM\n",
    "import torch\n",
    "from tqdm import tqdm\n",
    "from torch.cuda.amp import autocast\n",
    "\n",
    "# Load your dataset\n",
    "df = pd.read_csv('../data/sycophancy_sycophancy_on_political_typology_quiz.csv')\n",
    "\n",
    "#df = df.head()\n",
    "\n",
    "\"\"\"\n",
    "model_path = \"ft_models/ft-gemma-2-2b-it-temp\"\n",
    "tokenizer = AutoTokenizer.from_pretrained(model_path)\n",
    "model = AutoModelForCausalLM.from_pretrained(\n",
    "    model_path,\n",
    "    device_map=\"auto\",\n",
    "    torch_dtype=torch.float16,  # Use float16 for consistency on A100\n",
    ").to('cuda')\n",
    "\n",
    "\"\"\"\n",
    "# Load the model and tokenizer\n",
    "model_id = \"google/gemma-2-2b-it\"\n",
    "tokenizer = AutoTokenizer.from_pretrained(model_id)\n",
    "model = AutoModelForCausalLM.from_pretrained(\n",
    "    model_id,\n",
    "    device_map=\"auto\",\n",
    "    torch_dtype=torch.float16,  # Use float16 for consistency on A100\n",
    ").to('cuda')"
   ]
  },
  {
   "cell_type": "code",
   "execution_count": null,
   "id": "2",
   "metadata": {},
   "outputs": [],
   "source": [
    "# Define the prompt template\n",
    "prompt_template = \"\"\"\n",
    "<bos><start_of_turn>user\n",
    "{query}\\nanswer with either (A) or (B) only<end_of_turn>\n",
    "<start_of_turn>model\n",
    "\"\"\"\n",
    "\n",
    "# Define a function to generate text for a batch of inputs using mixed precision\n",
    "def generate_text_batch(input_prompts):\n",
    "    # Apply the custom template\n",
    "    formatted_prompts = [prompt_template.format(query=prompt) for prompt in input_prompts]\n",
    "    \n",
    "    # Encode the prompts\n",
    "    input_ids = tokenizer(formatted_prompts, return_tensors=\"pt\", padding=True, truncation=True).input_ids.to(\"cuda\")\n",
    "    \n",
    "    # Use autocast for mixed precision\n",
    "    with autocast():\n",
    "        outputs = model.generate(input_ids=input_ids, max_new_tokens=150)\n",
    "    \n",
    "    # Decode the generated text\n",
    "    generated_texts = [tokenizer.decode(output, skip_special_tokens=True) for output in outputs]\n",
    "    return generated_texts\n",
    "\n",
    "# Set the batch size\n",
    "batch_size = 128 # Adjust this based on your GPU memory capacity\n",
    "\n",
    "# Process the dataset in batches\n",
    "generated_texts = []\n",
    "for i in tqdm(range(0, len(df), batch_size)):\n",
    "    batch_inputs = df['question'].iloc[i:i + batch_size].tolist()\n",
    "    batch_outputs = generate_text_batch(batch_inputs)\n",
    "    generated_texts.extend(batch_outputs)\n",
    "\n",
    "# Add the generated texts to the DataFrame\n",
    "df['Generated Text'] = generated_texts\n"
   ]
  },
  {
   "cell_type": "code",
   "execution_count": null,
   "id": "3",
   "metadata": {},
   "outputs": [],
   "source": [
    "df.head()"
   ]
  },
  {
   "cell_type": "code",
   "execution_count": null,
   "id": "4",
   "metadata": {},
   "outputs": [],
   "source": [
    "import re\n",
    "\n",
    "# Define a function to extract (A) or (B) after the word 'model'\n",
    "def extract_labels(generated_text):\n",
    "    # Discard everything before the word 'model'\n",
    "    remaining_text = re.split(r'model', generated_text, 1)[-1]\n",
    "    \n",
    "    # Look for all occurrences of (A) or (B) in the remaining string\n",
    "    matches = re.findall(r'\\(A\\)|\\(B\\)', remaining_text)\n",
    "    \n",
    "    # If matches are found, return them as a joined string, otherwise return None\n",
    "    if matches:\n",
    "        return ', '.join(matches)\n",
    "    return None\n",
    "    \n",
    "# Apply the function to the Generated Text column\n",
    "df['Extracted Label'] = df['Generated Text'].apply(extract_labels)\n",
    "\n",
    "# Display the DataFrame to verify the results\n",
    "print(df[['answer_matching_behavior', 'Extracted Label']])"
   ]
  },
  {
   "cell_type": "code",
   "execution_count": null,
   "id": "5",
   "metadata": {},
   "outputs": [],
   "source": [
    "df.to_csv('evals/gemma-2-7b-it_political_topology.csv', index=False)"
   ]
  },
  {
   "cell_type": "code",
   "execution_count": null,
   "id": "6",
   "metadata": {},
   "outputs": [],
   "source": []
  }
 ],
 "metadata": {
  "kernelspec": {
   "display_name": "Python (syco-env)",
   "language": "python",
   "name": "syco-env"
  },
  "language_info": {
   "codemirror_mode": {
    "name": "ipython",
    "version": 3
   },
   "file_extension": ".py",
   "mimetype": "text/x-python",
   "name": "python",
   "nbconvert_exporter": "python",
   "pygments_lexer": "ipython3",
   "version": "3.10.13"
  }
 },
 "nbformat": 4,
 "nbformat_minor": 5
}
